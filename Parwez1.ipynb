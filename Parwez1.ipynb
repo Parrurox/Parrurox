{
  "nbformat": 4,
  "nbformat_minor": 0,
  "metadata": {
    "colab": {
      "name": "Parwez1.ipynb",
      "provenance": [],
      "collapsed_sections": [],
      "authorship_tag": "ABX9TyMJmf212Ts5PP44oDE7wNeh",
      "include_colab_link": true
    },
    "kernelspec": {
      "name": "python3",
      "display_name": "Python 3"
    },
    "language_info": {
      "name": "python"
    }
  },
  "cells": [
    {
      "cell_type": "markdown",
      "metadata": {
        "id": "view-in-github",
        "colab_type": "text"
      },
      "source": [
        "<a href=\"https://colab.research.google.com/github/Parrurox/Parrurox/blob/main/Parwez1.ipynb\" target=\"_parent\"><img src=\"https://colab.research.google.com/assets/colab-badge.svg\" alt=\"Open In Colab\"/></a>"
      ]
    },
    {
      "cell_type": "code",
      "metadata": {
        "colab": {
          "base_uri": "https://localhost:8080/"
        },
        "id": "SI2RvJj0np0e",
        "outputId": "14b8b497-082f-4901-f392-ac254f83e889"
      },
      "source": [
        "#1) Write a Python program to print the following:\n",
        "#i) Python is a wonderful language\n",
        "#ii) 123987\n",
        "print(\"Python is a wonderful language\")\n",
        "a=input()\n",
        "b=input()\n",
        "print(str(a)+str(b))\n"
      ],
      "execution_count": 1,
      "outputs": [
        {
          "output_type": "stream",
          "name": "stdout",
          "text": [
            "Python is a wonderful language\n",
            "123\n",
            "987\n",
            "123987\n"
          ]
        }
      ]
    },
    {
      "cell_type": "code",
      "metadata": {
        "colab": {
          "base_uri": "https://localhost:8080/"
        },
        "id": "WG6nU-N6owXm",
        "outputId": "9f0acab3-223b-43a5-bae2-45cc08575f0e"
      },
      "source": [
        "#Write a Python program to take your individual name as user input (i.e. accept the name\n",
        "#from the user while execution) and print it in the output.\n",
        "p=input(\"Enter your name: \")\n",
        "print(p)"
      ],
      "execution_count": 2,
      "outputs": [
        {
          "output_type": "stream",
          "name": "stdout",
          "text": [
            "Enter your name: Shaikh Parwez\n",
            "Shaikh Parwez\n"
          ]
        }
      ]
    }
  ]
}